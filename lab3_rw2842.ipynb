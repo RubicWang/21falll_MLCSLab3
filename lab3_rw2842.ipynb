{
  "nbformat": 4,
  "nbformat_minor": 0,
  "metadata": {
    "colab": {
      "name": "lab3_rw2842.ipynb",
      "provenance": [],
      "collapsed_sections": [],
      "machine_shape": "hm"
    },
    "kernelspec": {
      "name": "python3",
      "display_name": "Python 3"
    },
    "language_info": {
      "name": "python"
    },
    "accelerator": "GPU"
  },
  "cells": [
    {
      "cell_type": "markdown",
      "source": [
        "# MLCS Lab3\n",
        "### Name: Ruoyu Wang  \n",
        "### Net id: rw2842  \n"
      ],
      "metadata": {
        "id": "_KqC79fmvOtN"
      }
    },
    {
      "cell_type": "code",
      "source": [
        "import keras\n",
        "import numpy as np\n",
        "import matplotlib.pyplot as plt\n",
        "import h5py\n",
        "import time\n",
        "from pydrive.auth import GoogleAuth\n",
        "from pydrive.drive import GoogleDrive\n",
        "from google.colab import auth\n",
        "from oauth2client.client import GoogleCredentials\n",
        "import shutil"
      ],
      "metadata": {
        "id": "EHzPXQ-6vglg"
      },
      "execution_count": 1,
      "outputs": []
    },
    {
      "cell_type": "code",
      "source": [
        "# data set applying\n",
        "from pydrive.auth import GoogleAuth\n",
        "from pydrive.drive import GoogleDrive\n",
        "from google.colab import auth\n",
        "from oauth2client.client import GoogleCredentials\n",
        "import shutil\n",
        "\n",
        "auth.authenticate_user()\n",
        "gauth = GoogleAuth()\n",
        "gauth.credentials = GoogleCredentials.get_application_default()\n",
        "drive = GoogleDrive(gauth)\n",
        "\n",
        "!mkdir '/content/MLCSlab3'\n",
        "!mkdir '/content/MLCSlab3/data'\n",
        "!mkdir '/content/MLCSlab3/data/bd'\n",
        "!mkdir '/content/MLCSlab3/data/cl'\n",
        "!mkdir '/content/MLCSlab3/models'\n",
        "\n",
        "file_list_bd = drive.ListFile({'q': \"'1Vy-4kHtUVvzuPmnqiik1htHrcpxi5TX0' in parents and trashed=false\"}).GetList()\n",
        "for file1 in file_list_bd:\n",
        "  print('file name: %s' % (file1['title']))\n",
        "  downloaded = drive.CreateFile({'id':file1['id']})\n",
        "  downloaded.GetContentFile(file1['title'])\n",
        "  shutil.move(file1['title'], '/content/MLCSlab3/data/bd')\n",
        "\n",
        "file_list_cl = drive.ListFile({'q': \"'1eEq3-h9_NFyRJ8xGuts60UvwfsgoiwXd' in parents and trashed=false\"}).GetList()\n",
        "for file1 in file_list_cl:\n",
        "  print('file name: %s' % (file1['title']))\n",
        "  downloaded = drive.CreateFile({'id':file1['id']})\n",
        "  downloaded.GetContentFile(file1['title'])\n",
        "  shutil.move(file1['title'], '/content/MLCSlab3/data/cl')\n",
        "\n",
        "file_list_bd = drive.ListFile({'q': \"'1E6TAgrjGXhbUfEqMkOSWMtFY3i1ojS2P' in parents and trashed=false\"}).GetList()\n",
        "for file1 in file_list_bd:\n",
        "  print('file name: %s' % (file1['title']))\n",
        "  downloaded = drive.CreateFile({'id':file1['id']})\n",
        "  downloaded.GetContentFile(file1['title'])\n",
        "  shutil.move(file1['title'], '/content/MLCSlab3/models')\n",
        "    "
      ],
      "metadata": {
        "colab": {
          "base_uri": "https://localhost:8080/"
        },
        "id": "CIo5rsme-PRN",
        "outputId": "caec97d1-94bd-4615-80d9-2db4681ed6f6"
      },
      "execution_count": 3,
      "outputs": [
        {
          "output_type": "stream",
          "name": "stdout",
          "text": [
            "file name: bd_test.h5\n",
            "file name: bd_valid.h5\n",
            "file name: test.h5\n",
            "file name: valid.h5\n",
            "file name: bd_weights.h5\n",
            "file name: bd_net.h5\n"
          ]
        }
      ]
    },
    {
      "cell_type": "code",
      "source": [
        "# B model eval\n",
        "clean_data = '/content/MLCSlab3/data/cl/valid.h5'\n",
        "poisoned_data = '/content/MLCSlab3/data/bd/bd_valid.h5'\n",
        "bad_model = '/content/MLCSlab3/models/bd_net.h5'\n",
        "\n",
        "def data_loader(filepath):\n",
        "  data = h5py.File(filepath, 'r')\n",
        "  x_data = np.array(data['data'])\n",
        "  y_data = np.array(data['label'])\n",
        "  x_data = x_data.transpose((0,2,3,1))\n",
        "\n",
        "  return x_data, y_data\n",
        "\n",
        "def main():\n",
        "  cl_x_test, cl_y_test = data_loader(clean_data)\n",
        "  bd_x_test, bd_y_test = data_loader(poisoned_data)\n",
        "\n",
        "  bd_model = keras.models.load_model(bad_model)\n",
        "\n",
        "  cl_label_p = np.argmax(bd_model.predict(cl_x_test), axis=1)\n",
        "  clean_accuracy = np.mean(np.equal(cl_label_p, cl_y_test))*100\n",
        "  print('Clean Classification accuracy:', clean_accuracy)\n",
        "    \n",
        "  bd_label_p = np.argmax(bd_model.predict(bd_x_test), axis=1)\n",
        "  asr = np.mean(np.equal(bd_label_p, bd_y_test))*100\n",
        "  print('Attack Success Rate:', asr)\n",
        "\n",
        "if __name__ == '__main__':\n",
        "  main()\n"
      ],
      "metadata": {
        "id": "5hFcf5hGSrAD",
        "colab": {
          "base_uri": "https://localhost:8080/"
        },
        "outputId": "0c53a273-33cf-4861-eeab-e18197f5134e"
      },
      "execution_count": 4,
      "outputs": [
        {
          "output_type": "stream",
          "name": "stdout",
          "text": [
            "Clean Classification accuracy: 98.64899974019225\n",
            "Attack Success Rate: 100.0\n"
          ]
        }
      ]
    },
    {
      "cell_type": "code",
      "source": [
        "bd_model = keras.models.load_model(bad_model)\n",
        "print(bd_model.summary())"
      ],
      "metadata": {
        "colab": {
          "base_uri": "https://localhost:8080/"
        },
        "id": "k0mut3D2VzMJ",
        "outputId": "c285d6b2-8a57-4141-a23e-1ff926ba42cb"
      },
      "execution_count": 5,
      "outputs": [
        {
          "output_type": "stream",
          "name": "stdout",
          "text": [
            "Model: \"model_1\"\n",
            "__________________________________________________________________________________________________\n",
            " Layer (type)                   Output Shape         Param #     Connected to                     \n",
            "==================================================================================================\n",
            " input (InputLayer)             [(None, 55, 47, 3)]  0           []                               \n",
            "                                                                                                  \n",
            " conv_1 (Conv2D)                (None, 52, 44, 20)   980         ['input[0][0]']                  \n",
            "                                                                                                  \n",
            " pool_1 (MaxPooling2D)          (None, 26, 22, 20)   0           ['conv_1[0][0]']                 \n",
            "                                                                                                  \n",
            " conv_2 (Conv2D)                (None, 24, 20, 40)   7240        ['pool_1[0][0]']                 \n",
            "                                                                                                  \n",
            " pool_2 (MaxPooling2D)          (None, 12, 10, 40)   0           ['conv_2[0][0]']                 \n",
            "                                                                                                  \n",
            " conv_3 (Conv2D)                (None, 10, 8, 60)    21660       ['pool_2[0][0]']                 \n",
            "                                                                                                  \n",
            " pool_3 (MaxPooling2D)          (None, 5, 4, 60)     0           ['conv_3[0][0]']                 \n",
            "                                                                                                  \n",
            " conv_4 (Conv2D)                (None, 4, 3, 80)     19280       ['pool_3[0][0]']                 \n",
            "                                                                                                  \n",
            " flatten_1 (Flatten)            (None, 1200)         0           ['pool_3[0][0]']                 \n",
            "                                                                                                  \n",
            " flatten_2 (Flatten)            (None, 960)          0           ['conv_4[0][0]']                 \n",
            "                                                                                                  \n",
            " fc_1 (Dense)                   (None, 160)          192160      ['flatten_1[0][0]']              \n",
            "                                                                                                  \n",
            " fc_2 (Dense)                   (None, 160)          153760      ['flatten_2[0][0]']              \n",
            "                                                                                                  \n",
            " add_1 (Add)                    (None, 160)          0           ['fc_1[0][0]',                   \n",
            "                                                                  'fc_2[0][0]']                   \n",
            "                                                                                                  \n",
            " activation_1 (Activation)      (None, 160)          0           ['add_1[0][0]']                  \n",
            "                                                                                                  \n",
            " output (Dense)                 (None, 1283)         206563      ['activation_1[0][0]']           \n",
            "                                                                                                  \n",
            "==================================================================================================\n",
            "Total params: 601,643\n",
            "Trainable params: 601,643\n",
            "Non-trainable params: 0\n",
            "__________________________________________________________________________________________________\n",
            "None\n"
          ]
        }
      ]
    },
    {
      "cell_type": "code",
      "source": [
        "# data set seperating\n",
        "x_cl_valid, y_cl_valid = data_loader('/content/MLCSlab3/data/cl/valid.h5')\n",
        "x_cl_test, y_cl_test = data_loader('/content/MLCSlab3/data/cl/test.h5')\n",
        "x_bd_valid, y_bd_valid = data_loader('/content/MLCSlab3/data/bd/bd_valid.h5')\n",
        "x_bd_test, y_bd_test = data_loader('/content/MLCSlab3/data/bd/bd_test.h5')"
      ],
      "metadata": {
        "id": "sogJj48cWMYF"
      },
      "execution_count": 6,
      "outputs": []
    },
    {
      "cell_type": "code",
      "source": [
        "# example of clean data\n",
        "figure = plt.figure(figsize=(10,8))\n",
        "cols, rows = 3,2\n",
        "for i in range(1, cols*rows+1):\n",
        "  index = np.argwhere(y_cl_valid == i + 1216)\n",
        "  img, label = (x_cl_valid[index[0]], y_cl_valid[index[0]])\n",
        "  figure.add_subplot(rows, cols, i)\n",
        "  plt.title(\"y label: {}\".format(label))\n",
        "  plt.axis(\"off\")\n",
        "  plt.imshow(img[0]/255)\n",
        "plt.show()\n"
      ],
      "metadata": {
        "colab": {
          "base_uri": "https://localhost:8080/",
          "height": 476
        },
        "id": "jvBWra3SavN-",
        "outputId": "7e46ec64-7807-45ff-fecb-2aed6d896ebf"
      },
      "execution_count": 7,
      "outputs": [
        {
          "output_type": "display_data",
          "data": {
            "image/png": "[encoded data removed]",
            "text/plain": [
              "<Figure size 720x576 with 6 Axes>"
            ]
          },
          "metadata": {
            "needs_background": "light"
          }
        }
      ]
    },
    {
      "cell_type": "code",
      "source": [
        "# example of poisoned data\n",
        "figure = plt.figure(figsize=(10,8))\n",
        "cols, rows = 3,2\n",
        "for i in range(1, cols*rows+1):\n",
        "  index = np.argwhere(y_cl_valid == i + 1216)\n",
        "  img, label = (x_bd_valid[index[0]], y_bd_valid[index[0]])\n",
        "  figure.add_subplot(rows, cols, i)\n",
        "  plt.title(\"y label: {}\".format(label))\n",
        "  plt.axis(\"off\")\n",
        "  plt.imshow(img[0]/255)\n",
        "plt.show()\n"
      ],
      "metadata": {
        "colab": {
          "base_uri": "https://localhost:8080/",
          "height": 476
        },
        "id": "Su2NeMxVbQha",
        "outputId": "32e7bc66-a450-40d9-9ec5-a996ef4368d6"
      },
      "execution_count": 8,
      "outputs": [
        {
          "output_type": "display_data",
          "data": {
            "image/png": "[encoded data removed]",
            "text/plain": [
              "<Figure size 720x576 with 6 Axes>"
            ]
          },
          "metadata": {
            "needs_background": "light"
          }
        }
      ]
    },
    {
      "cell_type": "code",
      "source": [
        "# Design the G model\n",
        "class GoodNet_Model(keras.Model):\n",
        "  def __init__(self, bd_model, bd_model_ex):\n",
        "    super(GoodNet_Model, self).__init__()\n",
        "    self.bd_model = bd_model\n",
        "    self.bd_model_ex = bd_model_ex\n",
        "\n",
        "  def predict(self, dataset):\n",
        "    y = np.argmax(self.bd_model(dataset), axis=1)\n",
        "    y_prime = np.argmax(self.bd_model_ex(dataset), axis=1)\n",
        "    pred = []\n",
        "    for i in range(dataset.shape[0]):\n",
        "      if y[i]==y_prime[i]:\n",
        "        pred.append(y[i])\n",
        "      else:\n",
        "        pred.append(1283)\n",
        "    return pred\n"
      ],
      "metadata": {
        "id": "J7ox9yrcbZmo"
      },
      "execution_count": 9,
      "outputs": []
    },
    {
      "cell_type": "code",
      "source": [
        "# cut-off model summary\n",
        "bd_model_ex = keras.models.clone_model(bd_model)\n",
        "bd_model_ex.set_weights(bd_model.get_weights())\n",
        "\n",
        "pooling_layer_output = bd_model.get_layer('pool_3').output\n",
        "\n",
        "cutoff_model=keras.models.Model(inputs=bd_model.input,outputs=pooling_layer_output)\n",
        "cutoff_predict = cutoff_model.predict(x_cl_valid)\n",
        "print(cutoff_model.summary())"
      ],
      "metadata": {
        "colab": {
          "base_uri": "https://localhost:8080/"
        },
        "id": "JSzhP_pBtCPH",
        "outputId": "a56e0753-2cb9-4463-a5c8-bb9388e2c658"
      },
      "execution_count": 10,
      "outputs": [
        {
          "output_type": "stream",
          "name": "stdout",
          "text": [
            "Model: \"model\"\n",
            "_________________________________________________________________\n",
            " Layer (type)                Output Shape              Param #   \n",
            "=================================================================\n",
            " input (InputLayer)          [(None, 55, 47, 3)]       0         \n",
            "                                                                 \n",
            " conv_1 (Conv2D)             (None, 52, 44, 20)        980       \n",
            "                                                                 \n",
            " pool_1 (MaxPooling2D)       (None, 26, 22, 20)        0         \n",
            "                                                                 \n",
            " conv_2 (Conv2D)             (None, 24, 20, 40)        7240      \n",
            "                                                                 \n",
            " pool_2 (MaxPooling2D)       (None, 12, 10, 40)        0         \n",
            "                                                                 \n",
            " conv_3 (Conv2D)             (None, 10, 8, 60)         21660     \n",
            "                                                                 \n",
            " pool_3 (MaxPooling2D)       (None, 5, 4, 60)          0         \n",
            "                                                                 \n",
            "=================================================================\n",
            "Total params: 29,880\n",
            "Trainable params: 29,880\n",
            "Non-trainable params: 0\n",
            "_________________________________________________________________\n",
            "None\n"
          ]
        }
      ]
    },
    {
      "cell_type": "code",
      "source": [
        "# calculate the average activation values and sort their channel indexes from small to large\n",
        "average_activation_values = np.mean(cutoff_predict, axis=(0,1,2))\n",
        "print(average_activation_values)"
      ],
      "metadata": {
        "colab": {
          "base_uri": "https://localhost:8080/"
        },
        "id": "QHUGug0W1XJb",
        "outputId": "4a54a5ea-d421-4afd-89aa-1d67010551ef"
      },
      "execution_count": 11,
      "outputs": [
        {
          "output_type": "stream",
          "name": "stdout",
          "text": [
            "[0.0000000e+00 8.5787815e-01 0.0000000e+00 5.3079772e-01 5.1451387e+00\n",
            " 2.0289593e+00 6.2408661e-03 5.3690348e+00 2.1106052e+00 0.0000000e+00\n",
            " 4.1488924e+00 2.1980374e+00 0.0000000e+00 0.0000000e+00 0.0000000e+00\n",
            " 0.0000000e+00 1.5654893e+00 0.0000000e+00 5.0868416e+00 2.4381568e-01\n",
            " 1.8378232e-01 8.3539166e-02 4.3979663e-02 3.0290738e-03 0.0000000e+00\n",
            " 0.0000000e+00 0.0000000e+00 0.0000000e+00 4.8440871e+00 1.0589783e+00\n",
            " 0.0000000e+00 0.0000000e+00 1.5006663e-02 0.0000000e+00 0.0000000e+00\n",
            " 4.8648081e+00 0.0000000e+00 0.0000000e+00 0.0000000e+00 0.0000000e+00\n",
            " 0.0000000e+00 0.0000000e+00 5.7658595e-01 4.2763168e-01 0.0000000e+00\n",
            " 0.0000000e+00 1.8540384e+00 0.0000000e+00 0.0000000e+00 0.0000000e+00\n",
            " 0.0000000e+00 1.3321564e-02 6.2038717e+00 0.0000000e+00 3.6191161e+00\n",
            " 0.0000000e+00 1.6352938e+00 8.2229843e+00 5.0732863e-01 0.0000000e+00]\n"
          ]
        }
      ]
    },
    {
      "cell_type": "code",
      "source": [
        "# sort the average activation values in increasing order\n",
        "sorted_index = np.argsort(average_activation_values)\n",
        "print(average_activation_values[sorted_index])"
      ],
      "metadata": {
        "colab": {
          "base_uri": "https://localhost:8080/"
        },
        "id": "JDnfPhMa1e1S",
        "outputId": "7d99b0e8-a57c-4f96-9faa-2291c10d03da"
      },
      "execution_count": 12,
      "outputs": [
        {
          "output_type": "stream",
          "name": "stdout",
          "text": [
            "[0.0000000e+00 0.0000000e+00 0.0000000e+00 0.0000000e+00 0.0000000e+00\n",
            " 0.0000000e+00 0.0000000e+00 0.0000000e+00 0.0000000e+00 0.0000000e+00\n",
            " 0.0000000e+00 0.0000000e+00 0.0000000e+00 0.0000000e+00 0.0000000e+00\n",
            " 0.0000000e+00 0.0000000e+00 0.0000000e+00 0.0000000e+00 0.0000000e+00\n",
            " 0.0000000e+00 0.0000000e+00 0.0000000e+00 0.0000000e+00 0.0000000e+00\n",
            " 0.0000000e+00 0.0000000e+00 0.0000000e+00 0.0000000e+00 0.0000000e+00\n",
            " 0.0000000e+00 3.0290738e-03 6.2408661e-03 1.3321564e-02 1.5006663e-02\n",
            " 4.3979663e-02 8.3539166e-02 1.8378232e-01 2.4381568e-01 4.2763168e-01\n",
            " 5.0732863e-01 5.3079772e-01 5.7658595e-01 8.5787815e-01 1.0589783e+00\n",
            " 1.5654893e+00 1.6352938e+00 1.8540384e+00 2.0289593e+00 2.1106052e+00\n",
            " 2.1980374e+00 3.6191161e+00 4.1488924e+00 4.8440871e+00 4.8648081e+00\n",
            " 5.0868416e+00 5.1451387e+00 5.3690348e+00 6.2038717e+00 8.2229843e+00]\n"
          ]
        }
      ]
    },
    {
      "cell_type": "code",
      "source": [
        "print(sorted_index)"
      ],
      "metadata": {
        "colab": {
          "base_uri": "https://localhost:8080/"
        },
        "id": "74MiF5pM1oMg",
        "outputId": "693e6977-44f9-4758-deaf-0f4ee2983ba9"
      },
      "execution_count": 13,
      "outputs": [
        {
          "output_type": "stream",
          "name": "stdout",
          "text": [
            "[ 0 26 27 30 31 33 34 36 37 38 25 39 41 44 45 47 48 49 50 53 55 40 24 59\n",
            "  9  2 12 13 17 14 15 23  6 51 32 22 21 20 19 43 58  3 42  1 29 16 56 46\n",
            "  5  8 11 54 10 28 35 18  4  7 52 57]\n"
          ]
        }
      ]
    },
    {
      "cell_type": "code",
      "source": [
        "# pruning defense\n",
        "clean_classification_accuracy = 98.64899974019225\n",
        "\n",
        "clean_classification_acc = []\n",
        "attack_success_rate = []\n",
        "\n",
        "save_2_model_flag = False\n",
        "save_4_model_flag = False\n",
        "save_10_model_flag = False\n",
        "save_30_model_flag = False\n",
        "\n",
        "weights_conv3 = bd_model.get_layer('conv_3').get_weights()[0]\n",
        "bias_conv3 = bd_model.get_layer('conv_3').get_weights()[1]\n",
        "\n",
        "for index, channel_index in enumerate(sorted_index):\n",
        "  start_time = time.perf_counter()\n",
        "\n",
        "  weights_conv3[:,:,:,channel_index] = 0\n",
        "  bias_conv3[channel_index] = 0\n",
        "  bd_model_ex.get_layer('conv_3').set_weights([weights_conv3, bias_conv3])\n",
        "\n",
        "  GoodNet = GoodNet_Model(bd_model, bd_model_ex)\n",
        "\n",
        "  cl_valid_pred = np.argmax(bd_model_ex.predict(x_cl_valid), axis = 1)\n",
        "  cl_valid_acc = np.mean(np.equal(cl_valid_pred, y_cl_valid))*100\n",
        "\n",
        "  cl_test_pred = GoodNet.predict(x_cl_test)\n",
        "  cl_test_acc = np.mean(np.equal(cl_test_pred, y_cl_test))*100\n",
        "  clean_classification_acc.append(cl_test_acc)\n",
        "\n",
        "  bd_test_pred = GoodNet.predict(x_bd_test)\n",
        "  asr = np.mean(np.equal(bd_test_pred, y_bd_test))*100\n",
        "  attack_success_rate.append(asr)\n",
        "  stop_time = time.perf_counter()\n",
        "\n",
        "  print('*********************************************************')\n",
        "  print(\"The %d th pruning: \"%((index+1)))\n",
        "  print(\"Pruning channel index: %d\"%channel_index)\n",
        "  print(\"Clean classification accuracy: %f\"%cl_test_acc)\n",
        "  print(\"Attack success rate: %f\"%asr)\n",
        "  print(\"Time for traning: %f\"%(stop_time - start_time))\n",
        "  # Saving B' model for evaluation\n",
        "  if clean_classification_accuracy - cl_valid_acc >= 2 and save_2_model_flag == False:\n",
        "    print(\"The accuracy drops at least 2%, saving B' model\")\n",
        "    bd_model_ex.save('/content/MLCSlab3/models/bd_net_ex_2.h5')\n",
        "    save_2_model_flag = True\n",
        "  if clean_classification_accuracy - cl_valid_acc >= 4 and save_4_model_flag == False:\n",
        "    print(\"The accuracy drops at least 4%, saving B' model\")\n",
        "    bd_model_ex.save('/content/MLCSlab3/models/bd_net_ex_4.h5')\n",
        "    save_4_model_flag = True\n",
        "  if clean_classification_accuracy - cl_valid_acc >= 10 and save_10_model_flag == False:\n",
        "    print(\"The accuracy drops at least 10%, saving B' model\")\n",
        "    bd_model_ex.save('/content/MLCSlab3/models/bd_net_ex_10.h5')\n",
        "    save_10_model_flag = True\n",
        "  if clean_classification_accuracy - cl_valid_acc >= 30 and save_30_model_flag == False:\n",
        "    print(\"The accuracy drops at least 30%, saving B' model\")\n",
        "    bd_model_ex.save('/content/MLCSlab3/models/bd_net_ex_30.h5')\n",
        "    save_30_model_flag = True \n",
        "  keras.backend.clear_session()"
      ],
      "metadata": {
        "colab": {
          "base_uri": "https://localhost:8080/"
        },
        "id": "6dNLKUlw1tLm",
        "outputId": "ff5f8530-bcd7-441a-a011-a9ed1a04aca9"
      },
      "execution_count": 14,
      "outputs": [
        {
          "output_type": "stream",
          "name": "stdout",
          "text": [
            "*********************************************************\n",
            "The 1 th pruning: \n",
            "Pruning channel index: 0\n",
            "Clean classification accuracy: 98.620421\n",
            "Attack success rate: 100.000000\n",
            "Time for traning: 3.671229\n",
            "*********************************************************\n",
            "The 2 th pruning: \n",
            "Pruning channel index: 26\n",
            "Clean classification accuracy: 98.620421\n",
            "Attack success rate: 100.000000\n",
            "Time for traning: 3.107162\n",
            "*********************************************************\n",
            "The 3 th pruning: \n",
            "Pruning channel index: 27\n",
            "Clean classification accuracy: 98.620421\n",
            "Attack success rate: 100.000000\n",
            "Time for traning: 3.122188\n",
            "*********************************************************\n",
            "The 4 th pruning: \n",
            "Pruning channel index: 30\n",
            "Clean classification accuracy: 98.620421\n",
            "Attack success rate: 100.000000\n",
            "Time for traning: 3.119803\n",
            "*********************************************************\n",
            "The 5 th pruning: \n",
            "Pruning channel index: 31\n",
            "Clean classification accuracy: 98.620421\n",
            "Attack success rate: 100.000000\n",
            "Time for traning: 3.103630\n",
            "*********************************************************\n",
            "The 6 th pruning: \n",
            "Pruning channel index: 33\n",
            "Clean classification accuracy: 98.620421\n",
            "Attack success rate: 100.000000\n",
            "Time for traning: 3.174812\n",
            "*********************************************************\n",
            "The 7 th pruning: \n",
            "Pruning channel index: 34\n",
            "Clean classification accuracy: 98.620421\n",
            "Attack success rate: 100.000000\n",
            "Time for traning: 2.945992\n",
            "*********************************************************\n",
            "The 8 th pruning: \n",
            "Pruning channel index: 36\n",
            "Clean classification accuracy: 98.620421\n",
            "Attack success rate: 100.000000\n",
            "Time for traning: 2.929177\n",
            "*********************************************************\n",
            "The 9 th pruning: \n",
            "Pruning channel index: 37\n",
            "Clean classification accuracy: 98.620421\n",
            "Attack success rate: 100.000000\n",
            "Time for traning: 2.929103\n",
            "*********************************************************\n",
            "The 10 th pruning: \n",
            "Pruning channel index: 38\n",
            "Clean classification accuracy: 98.620421\n",
            "Attack success rate: 100.000000\n",
            "Time for traning: 2.995803\n",
            "*********************************************************\n",
            "The 11 th pruning: \n",
            "Pruning channel index: 25\n",
            "Clean classification accuracy: 98.620421\n",
            "Attack success rate: 100.000000\n",
            "Time for traning: 3.004304\n",
            "*********************************************************\n",
            "The 12 th pruning: \n",
            "Pruning channel index: 39\n",
            "Clean classification accuracy: 98.620421\n",
            "Attack success rate: 100.000000\n",
            "Time for traning: 2.922686\n",
            "*********************************************************\n",
            "The 13 th pruning: \n",
            "Pruning channel index: 41\n",
            "Clean classification accuracy: 98.620421\n",
            "Attack success rate: 100.000000\n",
            "Time for traning: 3.050304\n",
            "*********************************************************\n",
            "The 14 th pruning: \n",
            "Pruning channel index: 44\n",
            "Clean classification accuracy: 98.620421\n",
            "Attack success rate: 100.000000\n",
            "Time for traning: 3.041379\n",
            "*********************************************************\n",
            "The 15 th pruning: \n",
            "Pruning channel index: 45\n",
            "Clean classification accuracy: 98.620421\n",
            "Attack success rate: 100.000000\n",
            "Time for traning: 3.041193\n",
            "*********************************************************\n",
            "The 16 th pruning: \n",
            "Pruning channel index: 47\n",
            "Clean classification accuracy: 98.620421\n",
            "Attack success rate: 100.000000\n",
            "Time for traning: 3.508776\n",
            "*********************************************************\n",
            "The 17 th pruning: \n",
            "Pruning channel index: 48\n",
            "Clean classification accuracy: 98.620421\n",
            "Attack success rate: 100.000000\n",
            "Time for traning: 2.933668\n",
            "*********************************************************\n",
            "The 18 th pruning: \n",
            "Pruning channel index: 49\n",
            "Clean classification accuracy: 98.620421\n",
            "Attack success rate: 100.000000\n",
            "Time for traning: 2.943880\n",
            "*********************************************************\n",
            "The 19 th pruning: \n",
            "Pruning channel index: 50\n",
            "Clean classification accuracy: 98.620421\n",
            "Attack success rate: 100.000000\n",
            "Time for traning: 2.979731\n",
            "*********************************************************\n",
            "The 20 th pruning: \n",
            "Pruning channel index: 53\n",
            "Clean classification accuracy: 98.620421\n",
            "Attack success rate: 100.000000\n",
            "Time for traning: 3.009174\n",
            "*********************************************************\n",
            "The 21 th pruning: \n",
            "Pruning channel index: 55\n",
            "Clean classification accuracy: 98.620421\n",
            "Attack success rate: 100.000000\n",
            "Time for traning: 2.991875\n",
            "*********************************************************\n",
            "The 22 th pruning: \n",
            "Pruning channel index: 40\n",
            "Clean classification accuracy: 98.620421\n",
            "Attack success rate: 100.000000\n",
            "Time for traning: 2.965685\n",
            "*********************************************************\n",
            "The 23 th pruning: \n",
            "Pruning channel index: 24\n",
            "Clean classification accuracy: 98.620421\n",
            "Attack success rate: 100.000000\n",
            "Time for traning: 2.877414\n",
            "*********************************************************\n",
            "The 24 th pruning: \n",
            "Pruning channel index: 59\n",
            "Clean classification accuracy: 98.620421\n",
            "Attack success rate: 100.000000\n",
            "Time for traning: 2.906189\n",
            "*********************************************************\n",
            "The 25 th pruning: \n",
            "Pruning channel index: 9\n",
            "Clean classification accuracy: 98.620421\n",
            "Attack success rate: 100.000000\n",
            "Time for traning: 3.005167\n",
            "*********************************************************\n",
            "The 26 th pruning: \n",
            "Pruning channel index: 2\n",
            "Clean classification accuracy: 98.620421\n",
            "Attack success rate: 100.000000\n",
            "Time for traning: 3.084291\n",
            "*********************************************************\n",
            "The 27 th pruning: \n",
            "Pruning channel index: 12\n",
            "Clean classification accuracy: 98.620421\n",
            "Attack success rate: 100.000000\n",
            "Time for traning: 3.039599\n",
            "*********************************************************\n",
            "The 28 th pruning: \n",
            "Pruning channel index: 13\n",
            "Clean classification accuracy: 98.620421\n",
            "Attack success rate: 100.000000\n",
            "Time for traning: 2.967159\n",
            "*********************************************************\n",
            "The 29 th pruning: \n",
            "Pruning channel index: 17\n",
            "Clean classification accuracy: 98.620421\n",
            "Attack success rate: 100.000000\n",
            "Time for traning: 2.899732\n",
            "*********************************************************\n",
            "The 30 th pruning: \n",
            "Pruning channel index: 14\n",
            "Clean classification accuracy: 98.620421\n",
            "Attack success rate: 100.000000\n",
            "Time for traning: 2.922998\n",
            "*********************************************************\n",
            "The 31 th pruning: \n",
            "Pruning channel index: 15\n",
            "Clean classification accuracy: 98.620421\n",
            "Attack success rate: 100.000000\n",
            "Time for traning: 3.037262\n",
            "*********************************************************\n",
            "The 32 th pruning: \n",
            "Pruning channel index: 23\n",
            "Clean classification accuracy: 98.620421\n",
            "Attack success rate: 100.000000\n",
            "Time for traning: 3.024471\n",
            "*********************************************************\n",
            "The 33 th pruning: \n",
            "Pruning channel index: 6\n",
            "Clean classification accuracy: 98.620421\n",
            "Attack success rate: 100.000000\n",
            "Time for traning: 3.041280\n",
            "*********************************************************\n",
            "The 34 th pruning: \n",
            "Pruning channel index: 51\n",
            "Clean classification accuracy: 98.612627\n",
            "Attack success rate: 100.000000\n",
            "Time for traning: 2.938262\n",
            "*********************************************************\n",
            "The 35 th pruning: \n",
            "Pruning channel index: 32\n",
            "Clean classification accuracy: 98.604832\n",
            "Attack success rate: 100.000000\n",
            "Time for traning: 2.903849\n",
            "*********************************************************\n",
            "The 36 th pruning: \n",
            "Pruning channel index: 22\n",
            "Clean classification accuracy: 98.597038\n",
            "Attack success rate: 100.000000\n",
            "Time for traning: 2.965748\n",
            "*********************************************************\n",
            "The 37 th pruning: \n",
            "Pruning channel index: 21\n",
            "Clean classification accuracy: 98.597038\n",
            "Attack success rate: 100.000000\n",
            "Time for traning: 3.037344\n",
            "*********************************************************\n",
            "The 38 th pruning: \n",
            "Pruning channel index: 20\n",
            "Clean classification accuracy: 98.573655\n",
            "Attack success rate: 100.000000\n",
            "Time for traning: 3.037082\n",
            "*********************************************************\n",
            "The 39 th pruning: \n",
            "Pruning channel index: 19\n",
            "Clean classification accuracy: 98.526890\n",
            "Attack success rate: 100.000000\n",
            "Time for traning: 3.007006\n",
            "*********************************************************\n",
            "The 40 th pruning: \n",
            "Pruning channel index: 43\n",
            "Clean classification accuracy: 98.441154\n",
            "Attack success rate: 100.000000\n",
            "Time for traning: 2.979738\n",
            "*********************************************************\n",
            "The 41 th pruning: \n",
            "Pruning channel index: 58\n",
            "Clean classification accuracy: 98.409977\n",
            "Attack success rate: 100.000000\n",
            "Time for traning: 2.858840\n",
            "*********************************************************\n",
            "The 42 th pruning: \n",
            "Pruning channel index: 3\n",
            "Clean classification accuracy: 98.113796\n",
            "Attack success rate: 100.000000\n",
            "Time for traning: 2.891610\n",
            "*********************************************************\n",
            "The 43 th pruning: \n",
            "Pruning channel index: 42\n",
            "Clean classification accuracy: 97.747467\n",
            "Attack success rate: 100.000000\n",
            "Time for traning: 3.014202\n",
            "*********************************************************\n",
            "The 44 th pruning: \n",
            "Pruning channel index: 1\n",
            "Clean classification accuracy: 97.505846\n",
            "Attack success rate: 100.000000\n",
            "Time for traning: 3.033780\n",
            "*********************************************************\n",
            "The 45 th pruning: \n",
            "Pruning channel index: 29\n",
            "Clean classification accuracy: 95.744349\n",
            "Attack success rate: 100.000000\n",
            "Time for traning: 3.016407\n",
            "The accuracy drops at least 2%, saving B' model\n",
            "WARNING:tensorflow:Compiled the loaded model, but the compiled metrics have yet to be built. `model.compile_metrics` will be empty until you train or evaluate the model.\n"
          ]
        },
        {
          "output_type": "stream",
          "name": "stderr",
          "text": [
            "/usr/local/lib/python3.7/dist-packages/keras/engine/functional.py:1410: CustomMaskWarning: Custom mask layers require a config and must override get_config. When loading, the custom mask layer must be passed to the custom_objects argument.\n",
            "  layer_config = serialize_layer_fn(layer)\n"
          ]
        },
        {
          "output_type": "stream",
          "name": "stdout",
          "text": [
            "*********************************************************\n",
            "The 46 th pruning: \n",
            "Pruning channel index: 16\n",
            "Clean classification accuracy: 95.346843\n",
            "Attack success rate: 99.976617\n",
            "Time for traning: 2.953229\n",
            "*********************************************************\n",
            "The 47 th pruning: \n",
            "Pruning channel index: 56\n",
            "Clean classification accuracy: 94.902572\n",
            "Attack success rate: 99.984412\n",
            "Time for traning: 3.197766\n",
            "*********************************************************\n",
            "The 48 th pruning: \n",
            "Pruning channel index: 46\n",
            "Clean classification accuracy: 92.127825\n",
            "Attack success rate: 99.984412\n",
            "Time for traning: 2.982321\n",
            "The accuracy drops at least 4%, saving B' model\n",
            "WARNING:tensorflow:Compiled the loaded model, but the compiled metrics have yet to be built. `model.compile_metrics` will be empty until you train or evaluate the model.\n",
            "*********************************************************\n",
            "The 49 th pruning: \n",
            "Pruning channel index: 5\n",
            "Clean classification accuracy: 91.582229\n",
            "Attack success rate: 99.984412\n",
            "Time for traning: 3.010182\n",
            "*********************************************************\n",
            "The 50 th pruning: \n",
            "Pruning channel index: 8\n",
            "Clean classification accuracy: 91.130164\n",
            "Attack success rate: 99.976617\n",
            "Time for traning: 3.027373\n",
            "*********************************************************\n",
            "The 51 th pruning: \n",
            "Pruning channel index: 11\n",
            "Clean classification accuracy: 89.680436\n",
            "Attack success rate: 80.646921\n",
            "Time for traning: 3.039708\n",
            "*********************************************************\n",
            "The 52 th pruning: \n",
            "Pruning channel index: 54\n",
            "Clean classification accuracy: 84.333593\n",
            "Attack success rate: 77.209665\n",
            "Time for traning: 2.960725\n",
            "The accuracy drops at least 10%, saving B' model\n",
            "WARNING:tensorflow:Compiled the loaded model, but the compiled metrics have yet to be built. `model.compile_metrics` will be empty until you train or evaluate the model.\n",
            "*********************************************************\n",
            "The 53 th pruning: \n",
            "Pruning channel index: 10\n",
            "Clean classification accuracy: 76.165238\n",
            "Attack success rate: 36.266563\n",
            "Time for traning: 3.217925\n",
            "*********************************************************\n",
            "The 54 th pruning: \n",
            "Pruning channel index: 28\n",
            "Clean classification accuracy: 54.676539\n",
            "Attack success rate: 6.960249\n",
            "Time for traning: 2.869092\n",
            "The accuracy drops at least 30%, saving B' model\n",
            "WARNING:tensorflow:Compiled the loaded model, but the compiled metrics have yet to be built. `model.compile_metrics` will be empty until you train or evaluate the model.\n",
            "*********************************************************\n",
            "The 55 th pruning: \n",
            "Pruning channel index: 35\n",
            "Clean classification accuracy: 27.069369\n",
            "Attack success rate: 0.420889\n",
            "Time for traning: 3.297481\n",
            "*********************************************************\n",
            "The 56 th pruning: \n",
            "Pruning channel index: 18\n",
            "Clean classification accuracy: 13.702260\n",
            "Attack success rate: 0.000000\n",
            "Time for traning: 2.970176\n",
            "*********************************************************\n",
            "The 57 th pruning: \n",
            "Pruning channel index: 4\n",
            "Clean classification accuracy: 6.562744\n",
            "Attack success rate: 0.000000\n",
            "Time for traning: 3.048395\n",
            "*********************************************************\n",
            "The 58 th pruning: \n",
            "Pruning channel index: 7\n",
            "Clean classification accuracy: 1.519875\n",
            "Attack success rate: 0.000000\n",
            "Time for traning: 3.317233\n",
            "*********************************************************\n",
            "The 59 th pruning: \n",
            "Pruning channel index: 52\n",
            "Clean classification accuracy: 0.646921\n",
            "Attack success rate: 0.000000\n",
            "Time for traning: 3.624085\n",
            "*********************************************************\n",
            "The 60 th pruning: \n",
            "Pruning channel index: 57\n",
            "Clean classification accuracy: 0.070148\n",
            "Attack success rate: 0.000000\n",
            "Time for traning: 3.602405\n"
          ]
        }
      ]
    },
    {
      "cell_type": "code",
      "source": [
        "# Plot the figure\n",
        "plt.plot(clean_classification_acc)\n",
        "plt.plot(attack_success_rate)\n",
        "plt.legend(['clean classification accuracy','attack success rate'])\n",
        "plt.xlabel(\"pruned channels\")\n",
        "plt.ylabel(\"rates\")\n",
        "plt.title(\"G model\")"
      ],
      "metadata": {
        "colab": {
          "base_uri": "https://localhost:8080/",
          "height": 313
        },
        "id": "UYPseK2e6VqP",
        "outputId": "8c3c932f-830e-4add-f8cc-8582067c3e0b"
      },
      "execution_count": 15,
      "outputs": [
        {
          "output_type": "execute_result",
          "data": {
            "text/plain": [
              "Text(0.5, 1.0, 'G model')"
            ]
          },
          "metadata": {},
          "execution_count": 15
        },
        {
          "output_type": "display_data",
          "data": {
            "image/png": "[encoded data removed]",
            "text/plain": [
              "<Figure size 432x288 with 1 Axes>"
            ]
          },
          "metadata": {
            "needs_background": "light"
          }
        }
      ]
    },
    {
      "cell_type": "code",
      "source": [
        "# see detailed data of the turning point\n",
        "print(clean_classification_acc[52],attack_success_rate[52])\n",
        "print(clean_classification_acc[53],attack_success_rate[53])\n",
        "print(clean_classification_acc[54],attack_success_rate[54])"
      ],
      "metadata": {
        "colab": {
          "base_uri": "https://localhost:8080/"
        },
        "id": "mnnQujYRmaVw",
        "outputId": "ff70d1d5-e8af-46dc-dea8-99d1bb8676a7"
      },
      "execution_count": 19,
      "outputs": [
        {
          "output_type": "stream",
          "name": "stdout",
          "text": [
            "76.16523772408418 36.26656274356976\n",
            "54.67653936087296 6.96024941543258\n",
            "27.069368667186282 0.4208885424785659\n"
          ]
        }
      ]
    },
    {
      "cell_type": "markdown",
      "source": [
        "From the 3 points near the turning point, it is easy to see that when a good(low) attack success rate achieved, the clean classification accuracy is also small, which means the model is not really successful. Also, from the graph, we notice that the clean classification accuracy start to get down before the attack success rate, which might caused by the pruning aware attack."
      ],
      "metadata": {
        "id": "2u8-KGIZoi72"
      }
    }
  ]
}